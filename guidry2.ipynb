{
 "cells": [
  {
   "cell_type": "markdown",
   "id": "95283ffb",
   "metadata": {},
   "source": [
    "# Guidry Chapter 2"
   ]
  },
  {
   "cell_type": "markdown",
   "id": "79fb1544",
   "metadata": {},
   "source": [
    "Let $r$ represent orthonormal coordinates in a cartesian coordinate system. A generalized coordinate transformation is a parametrization of \n",
    "the coordinates $r$ by a parameters $r(u_1, \\ldots, u_n)$.\n",
    "\n",
    "The {\\em tangent basis} of this parametrization is defined as \n",
    "\n",
    "$$\n",
    "e_{u_i} := \\frac{\\partial r}{\\partial u_i}\n",
    "$$\n",
    "\n",
    "\n",
    "\n",
    "The inner product can be defined for the tangent basis in terms of the euclidean inner product.\n",
    "\n",
    "The metric tensor is defined by \n",
    "\n",
    "\\begin{equation}\\label{metric}\n",
    "g_{ij} = \\bf{e_i}\\cdot \\bf{e_j}\n",
    "\\end{equation}"
   ]
  },
  {
   "cell_type": "markdown",
   "id": "ec3f2fd6",
   "metadata": {},
   "source": [
    "### Problem 2.2\n",
    "\n",
    "Prove that Newton's second law and law of gravitation is invariant under Galilean boosts.\n",
    "\n",
    "#### Solution\n",
    "\n",
    "The gravitational force $F = \\frac{Gm_1 m_2 \\hat{r}}{r^2}$\n",
    "depends only on $r := ||x-y||$ where x and y are the positions of the two masses. For a Galilean boost:\n",
    "\n",
    "$x' = x + vt$, $y' = y + vt$, so \n",
    "$||x'-y'|| = ||x-y||$\n",
    "\n"
   ]
  },
  {
   "cell_type": "markdown",
   "id": "2ebfa10e",
   "metadata": {},
   "source": [
    "### Problem 2.3\n",
    "\n",
    "Use tangent and dual basis vectors to construct metric tensor components $g_{ij}, g^{ij}$ and the line element for the following coordinate transformation:\n",
    "\n",
    "$$\n",
    "x = u+v, y = u - v, z = 2uv+w\n",
    "$$\n",
    "\n",
    "#### Solution (using sympy)"
   ]
  },
  {
   "cell_type": "code",
   "execution_count": 4,
   "id": "4253a697",
   "metadata": {},
   "outputs": [
    {
     "data": {
      "text/latex": [
       "$\\displaystyle \\left( \\left( x, \\  y, \\  z\\right) \\mapsto \\left[\\begin{matrix}\\frac{x}{2} + \\frac{y}{2}\\\\\\frac{x}{2} - \\frac{y}{2}\\\\- \\frac{x^{2}}{2} + \\frac{y^{2}}{2} + z\\end{matrix}\\right] \\right)$"
      ],
      "text/plain": [
       "Lambda((x, y, z), Matrix([\n",
       "[           x/2 + y/2],\n",
       "[           x/2 - y/2],\n",
       "[-x**2/2 + y**2/2 + z]]))"
      ]
     },
     "execution_count": 4,
     "metadata": {},
     "output_type": "execute_result"
    }
   ],
   "source": [
    "from sympy import symbols, pi, sqrt, atan2, cos, sin\n",
    "from sympy.diffgeom import Manifold, Patch, CoordSystem\n",
    "\n",
    "# define a manifold and a coordinate patch\n",
    "manifold = Manifold('M', 3)\n",
    "patch = Patch('P', manifold)\n",
    "\n",
    "x, y, z = symbols('x y z', real=True)\n",
    "u, v, w = symbols('u v w', real=True)\n",
    "\n",
    "coord_transform = {\n",
    "('XYZ', 'UVW'): [ (x, y, z),  ( (x+y)/2, (x-y)/2, z-(x**2-y**2)/2) ],\n",
    "('UVW', 'XYZ'): [ (u,v,w), ( u+v, u-v, 2*u*v+w) ]\n",
    "}\n",
    "\n",
    "# Define the two coordinate systems\n",
    "XYZ = CoordSystem('XYZ', patch, (x, y, z), coord_transform)\n",
    "UVW = CoordSystem('UVW', patch, (u,v,w), coord_transform)\n",
    "\n",
    "# This simply reproduces the transformations we defined\n",
    "XYZ.transformation(UVW)"
   ]
  },
  {
   "cell_type": "code",
   "execution_count": 5,
   "id": "5187ec4d",
   "metadata": {},
   "outputs": [
    {
     "data": {
      "text/latex": [
       "$\\displaystyle \\left[\\begin{matrix}1 & 1 & 0\\\\1 & -1 & 0\\\\2 v & 2 u & 1\\end{matrix}\\right]$"
      ],
      "text/plain": [
       "Matrix([\n",
       "[  1,   1, 0],\n",
       "[  1,  -1, 0],\n",
       "[2*v, 2*u, 1]])"
      ]
     },
     "execution_count": 5,
     "metadata": {},
     "output_type": "execute_result"
    }
   ],
   "source": [
    "# Construct the Jacobian\n",
    "J = UVW.jacobian(XYZ)\n",
    "J"
   ]
  },
  {
   "cell_type": "code",
   "execution_count": null,
   "id": "ac49927e",
   "metadata": {},
   "outputs": [],
   "source": [
    "# Construct the metric\n",
    "from geometry import metric_from_jacobian\n",
    "\n",
    "metric = me"
   ]
  },
  {
   "cell_type": "markdown",
   "id": "bd6106c8",
   "metadata": {},
   "source": [
    "### Problem 2.5 \n",
    "\n",
    "A parametrization of a torus embedded in 3D is given by\n",
    "\n",
    "\\begin{eqnarray*}\n",
    "x = (a+b\\cos\\phi)\\cos\\theta\\\\\n",
    "y = (a+b\\cos\\phi)\\sin\\theta\\\\\n",
    "z = b\\sin\\phi\n",
    "\\end{eqnarray*}\n",
    "\n",
    "Construct the tangent basis vector and the metric tensor.\n",
    "\n",
    "#### Solution\n",
    "\n",
    "\n",
    "$$\n",
    "e_{\\theta} = \\frac{\\partial r}{\\partial\\theta} = \n",
    "[-\\sin\\theta(a+b\\cos\\phi),\\cos\\theta (a+b\\cos\\phi), 0]\n",
    "$$\n",
    "\n",
    "$$\n",
    "e_{\\phi} = \\frac{\\partial r}{\\partial\\phi} = \n",
    "[-b\\sin\\phi\\cos\\theta,-b\\sin\\phi\\sin\\theta, b\\cos\\phi]\n",
    "$$\n",
    "\n",
    "We know that $g_{ij} = e_i \\cdot e_j$, from which\n",
    "\n",
    "$g_{\\phi\\phi} = b^2$, \n",
    "$g_{\\phi\\theta} = g_{\\theta\\phi} = 0$, \n",
    "$g_{\\theta\\theta} = (a+b\\cos\\phi)^2$\n"
   ]
  },
  {
   "cell_type": "markdown",
   "id": "f392b3e7",
   "metadata": {},
   "source": [
    "### Problem 2.6\n",
    "\n",
    "Find the dual basis to the polar coordinate vectors in example 2.4\n",
    "\n",
    "#### Solution\n",
    "\n",
    "The co-vectors must satisfy\n",
    "\n",
    "$$\n",
    "\\epsilon^i(e_j) = \\delta^i_j\n",
    "$$\n",
    "\n",
    "For each co-vector we form two equations with two unknowns. For example, let the coordinates of the co-vector $\\epsilon^1$ be \n",
    "$(a,b)$, we have  \n",
    "\n",
    "$$\n",
    "a\\cos\\phi + b\\sin\\phi = 1\n",
    "$$\n",
    "\n",
    "$$\n",
    "-a\\sin\\phi + rb\\cos\\phi = 0\n",
    "$$\n",
    "\n",
    "Solving them we get:\n",
    "\n",
    "$$\n",
    "\\epsilon^1 = (\\cos\\phi, \\sin\\phi)\n",
    "$$\n",
    "\n",
    "$$\n",
    "\\epsilon^2 = (-\\sin\\phi/r, \\cos\\phi/r)\n",
    "$$\n",
    "\n",
    "\n",
    "Alternatively, they can be computed via\n",
    "\n",
    "$$\n",
    "\\epsilon^i = g^{ij}e_j\n",
    "$$\n",
    "\n",
    "where \n",
    "\n",
    "$$\n",
    "[g^{ij}] = \\begin{bmatrix}\n",
    "1 & 0\\\\\n",
    "0 & 1/r^2\n",
    "\\end{bmatrix}\n",
    "$$"
   ]
  },
  {
   "cell_type": "code",
   "execution_count": null,
   "id": "0593e436",
   "metadata": {},
   "outputs": [],
   "source": []
  }
 ],
 "metadata": {
  "kernelspec": {
   "display_name": "Python 3 (ipykernel)",
   "language": "python",
   "name": "python3"
  },
  "language_info": {
   "codemirror_mode": {
    "name": "ipython",
    "version": 3
   },
   "file_extension": ".py",
   "mimetype": "text/x-python",
   "name": "python",
   "nbconvert_exporter": "python",
   "pygments_lexer": "ipython3",
   "version": "3.10.8"
  }
 },
 "nbformat": 4,
 "nbformat_minor": 5
}
