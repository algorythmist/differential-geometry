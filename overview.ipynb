{
 "cells": [
  {
   "cell_type": "markdown",
   "id": "48d4a0f2",
   "metadata": {},
   "source": [
    "# Notation\n",
    "\n",
    "Basis vectors are written with subscripts like $\\mathbf{e_1, e_2}$ and $\\partial_i$.\n",
    "\n",
    "Components of a vector are written with superscripts, so that\n",
    "\n",
    "$\\mathbf{v} = v^i\\mathbf{e_i}$\n",
    "\n",
    "Whenever the same index appears in both the subscript and superscript as above, summation is implied\n",
    "\n",
    "$\\mathbf{v} = v^i\\mathbf{e_i}$ means $\\mathbf{v} = \\sum_{i=1}^n v^i\\mathbf{e_i}$"
   ]
  },
  {
   "cell_type": "markdown",
   "id": "47a1c625",
   "metadata": {},
   "source": [
    "On the other hand, basis one forms are written with superscripts as in $\\mathbf{\\epsilon_1}, \\mathbf{\\epsilon_2}$ and $dx^i$\n",
    "\n",
    "whereas one form components appear with subscripts\n",
    "\n",
    "$\\mathbf{\\omega} = \\omega_i \\mathbf{\\epsilon^i}$ "
   ]
  },
  {
   "cell_type": "markdown",
   "id": "f4e2613b",
   "metadata": {},
   "source": [
    "Typically, latin indexes $i,j,k$ etc are used to represent 3D spatial coordinates and Greek symbls like $\\mu,\\nu,\\lambda$\n",
    "are used to represent 4D Minkowski coordinates."
   ]
  },
  {
   "cell_type": "markdown",
   "id": "8828f97a",
   "metadata": {},
   "source": [
    "## Matrix notation\n",
    "\n",
    "Vectors coordinates appear as columns $\\begin{bmatrix} v^1\\\\v^2\\\\v^2 \\end{bmatrix}$ \n",
    "and form coordinates as rows  $\\begin{bmatrix} \\omega_1 && \\omega_2 && \\omega_3 \\end{bmatrix}$.\n",
    "\n",
    "In tensor operations, forms operate from the left and vectors from the right, so that \n",
    "\n",
    "$\\omega_i dx^i \\otimes v^i \\partial_i = \\omega_i v^i$ = \n",
    "\n",
    "$$\n",
    "\\begin{bmatrix} \\omega_1 && \\omega_2 && \\omega_3 \\end{bmatrix} \\begin{bmatrix} v^1\\\\v^2\\\\v^2 \\end{bmatrix}\n",
    "$$"
   ]
  },
  {
   "cell_type": "code",
   "execution_count": null,
   "id": "4858a99a",
   "metadata": {},
   "outputs": [],
   "source": []
  }
 ],
 "metadata": {
  "kernelspec": {
   "display_name": "differential-geometry",
   "language": "python",
   "name": "differential-geometry"
  },
  "language_info": {
   "codemirror_mode": {
    "name": "ipython",
    "version": 3
   },
   "file_extension": ".py",
   "mimetype": "text/x-python",
   "name": "python",
   "nbconvert_exporter": "python",
   "pygments_lexer": "ipython3",
   "version": "3.10.8"
  }
 },
 "nbformat": 4,
 "nbformat_minor": 5
}
